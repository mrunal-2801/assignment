{
  "nbformat": 4,
  "nbformat_minor": 0,
  "metadata": {
    "colab": {
      "provenance": []
    },
    "kernelspec": {
      "name": "python3",
      "display_name": "Python 3"
    },
    "language_info": {
      "name": "python"
    }
  },
  "cells": [
    {
      "cell_type": "markdown",
      "source": [
        "#mrunal\n",
        "-xyz\n"
      ],
      "metadata": {
        "id": "Ilk0HnkpQO_S"
      }
    },
    {
      "cell_type": "code",
      "execution_count": 1,
      "metadata": {
        "colab": {
          "base_uri": "https://localhost:8080/"
        },
        "id": "dTfaShvcLu_I",
        "outputId": "431c50c1-98c7-4d73-dc42-cb12a75e0c55"
      },
      "outputs": [
        {
          "output_type": "stream",
          "name": "stdout",
          "text": [
            "Mrunal\n"
          ]
        }
      ],
      "source": [
        "print(\"Mrunal\")"
      ]
    },
    {
      "cell_type": "code",
      "source": [],
      "metadata": {
        "id": "NzpdVFrsQXXC"
      },
      "execution_count": null,
      "outputs": []
    }
  ]
}